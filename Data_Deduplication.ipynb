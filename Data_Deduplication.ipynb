{
 "cells": [
  {
   "cell_type": "markdown",
   "metadata": {},
   "source": [
    "# Data Deduplication & Record linkage\n",
    "\n",
    "The solution intelligently links & combines records from two related data sources into a single master record. The module acts as a crucial component in Master Data Management. It assigns a common ID to records belonging to the same entity/duplicates. The probabilistic linkage algorithm provides the flexibility to find duplicate records based on a required match percentage given the columns of interest.\n",
    "\n",
    "<b>The module thus takes two datasets as input along with column names from each dataset to link/deduplicate on. The output is a unified dataset with a new unique ID generated for each record. Records that are duplicates will share a common ID.</b>\n",
    "\n",
    "### Prerequisite\n",
    "\n",
    "The kernel comes pre-installed with the required packages. Else ensure to have the following Python Packages in your environment at minimum:\n",
    "\n",
    "    - scikit-learn\n",
    "    - numpy\n",
    "    - pandas\n",
    "    - recordlinkage\n",
    "    - uuid\n",
    "\n",
    " ### Contents\n",
    "\n",
    "1. [Input Data](#Input-Format)\n",
    "2. [Creating Model](#Creating-Model)\n",
    "3. [Batch Transform](#Batch-Transform)\n",
    "4. [Output](#Output)\n",
    "5. [Invoking through Endpoint](#Invoking-through-Endpoint)"
   ]
  },
  {
   "cell_type": "markdown",
   "metadata": {},
   "source": [
    "___\n",
    "### Input Format\n",
    "\n",
    "The solution takes a zip file as input. <br><br>\n",
    "The zip must conatin: <br>\n",
    "1. two 'CSV' files corresponding to the two sources of data and \n",
    "2. \"config.json: - a configuration file. (List of column pairs for linking/deduplication along with %threshold match required)\n",
    "\n",
    "Ensure Content-Type is 'application/zip'\n",
    "\n",
    "\n",
    "- input.zip  \n",
    "    - config.json  \n",
    "    - dataset1.csv  \n",
    "    - dataset2.csv\n"
   ]
  },
  {
   "cell_type": "markdown",
   "metadata": {},
   "source": [
    " ### Input instructions\n",
    "\n",
    "* The solution works with csv files only.\n",
    "\n",
    "\n",
    "* Current version limitation: Both the csv files should contain less than 2000 rows\n",
    "\n",
    "\n",
    "* \"config.json\" should be uploaded with the two csv files.\n",
    "\n",
    "\n",
    "* The input zip must have two csv and the config.json\n",
    "\n",
    "\n",
    "* The \"config.json\" must follow the below format<br>\n",
    "{<br>\n",
    "<b>\"filename_1\"</b>: filename of the first csv,<br>\n",
    "<b>\"filename_2\"</b>: filename of the second csv,<br> \n",
    "<b>\"comparision_pairs\"</b>: [[column name from first csv,column name from second csv,threshold]]<br>\n",
    "}\n",
    "\n",
    "* Threshold (% matching criteria) value ranges from 0 to 1 <b> [1 is Exact Match] </b>\n",
    "\n",
    "\n",
    "\n",
    "### Output interpretation\n",
    "\n",
    "* Output file will be a csv that conatins rows and columns from both the csv files.\n",
    "* The output csv will have 3 additional columns:<br>\n",
    "\n",
    "|MasterID |Source |SourceID|\n",
    "|-----|-------|------|\n",
    "\n",
    "* MasterID: ID assigned to each record and records that are duplicates will have the same \"MasterID\"\n",
    "\n",
    "* Source: indicates filename from which the record is populated.\n",
    "\n",
    "* SourceID: row index from the corresponding source.\n",
    "\n",
    "___"
   ]
  },
  {
   "cell_type": "markdown",
   "metadata": {},
   "source": [
    "## Importing libraries for runtime"
   ]
  },
  {
   "cell_type": "code",
   "execution_count": 25,
   "metadata": {},
   "outputs": [],
   "source": [
    "import pandas as pd\n",
    "import boto3\n",
    "import re\n",
    "import json"
   ]
  },
  {
   "cell_type": "code",
   "execution_count": 26,
   "metadata": {},
   "outputs": [
    {
     "data": {
      "text/html": [
       "<div>\n",
       "<style scoped>\n",
       "    .dataframe tbody tr th:only-of-type {\n",
       "        vertical-align: middle;\n",
       "    }\n",
       "\n",
       "    .dataframe tbody tr th {\n",
       "        vertical-align: top;\n",
       "    }\n",
       "\n",
       "    .dataframe thead th {\n",
       "        text-align: right;\n",
       "    }\n",
       "</style>\n",
       "<table border=\"1\" class=\"dataframe\">\n",
       "  <thead>\n",
       "    <tr style=\"text-align: right;\">\n",
       "      <th></th>\n",
       "      <th>name</th>\n",
       "      <th>address</th>\n",
       "      <th>suburb</th>\n",
       "      <th>postcode</th>\n",
       "      <th>state</th>\n",
       "      <th>date_of_birth</th>\n",
       "      <th>soc_sec_id</th>\n",
       "    </tr>\n",
       "  </thead>\n",
       "  <tbody>\n",
       "    <tr>\n",
       "      <th>0</th>\n",
       "      <td>michaela neumann</td>\n",
       "      <td>8 stanley street miami</td>\n",
       "      <td>winston hills</td>\n",
       "      <td>4223</td>\n",
       "      <td>nsw</td>\n",
       "      <td>19151111</td>\n",
       "      <td>5304218</td>\n",
       "    </tr>\n",
       "    <tr>\n",
       "      <th>1</th>\n",
       "      <td>courtney painter</td>\n",
       "      <td>12 pinkerton circuit bega flats</td>\n",
       "      <td>richlands</td>\n",
       "      <td>4560</td>\n",
       "      <td>vic</td>\n",
       "      <td>19161214</td>\n",
       "      <td>4066625</td>\n",
       "    </tr>\n",
       "  </tbody>\n",
       "</table>\n",
       "</div>"
      ],
      "text/plain": [
       "                name                          address          suburb  \\\n",
       "0   michaela neumann           8 stanley street miami   winston hills   \n",
       "1   courtney painter  12 pinkerton circuit bega flats       richlands   \n",
       "\n",
       "   postcode state date_of_birth  soc_sec_id  \n",
       "0      4223   nsw      19151111     5304218  \n",
       "1      4560   vic      19161214     4066625  "
      ]
     },
     "execution_count": 26,
     "metadata": {},
     "output_type": "execute_result"
    }
   ],
   "source": [
    "Df1=pd.read_csv(\"dataset1.csv\")\n",
    "Df1.head(2)"
   ]
  },
  {
   "cell_type": "code",
   "execution_count": 27,
   "metadata": {},
   "outputs": [
    {
     "data": {
      "text/html": [
       "<div>\n",
       "<style scoped>\n",
       "    .dataframe tbody tr th:only-of-type {\n",
       "        vertical-align: middle;\n",
       "    }\n",
       "\n",
       "    .dataframe tbody tr th {\n",
       "        vertical-align: top;\n",
       "    }\n",
       "\n",
       "    .dataframe thead th {\n",
       "        text-align: right;\n",
       "    }\n",
       "</style>\n",
       "<table border=\"1\" class=\"dataframe\">\n",
       "  <thead>\n",
       "    <tr style=\"text-align: right;\">\n",
       "      <th></th>\n",
       "      <th>employee_name</th>\n",
       "      <th>employee_address</th>\n",
       "      <th>suburb</th>\n",
       "      <th>postcode</th>\n",
       "      <th>date_of_birth</th>\n",
       "      <th>soc_sec_id</th>\n",
       "    </tr>\n",
       "  </thead>\n",
       "  <tbody>\n",
       "    <tr>\n",
       "      <th>0</th>\n",
       "      <td>elton</td>\n",
       "      <td>3 light setreet pinehill</td>\n",
       "      <td>windermere</td>\n",
       "      <td>3212</td>\n",
       "      <td>19651013</td>\n",
       "      <td>1551941</td>\n",
       "    </tr>\n",
       "    <tr>\n",
       "      <th>1</th>\n",
       "      <td>mitchell maxon</td>\n",
       "      <td>47 edkins street lochaoair</td>\n",
       "      <td>north ryde</td>\n",
       "      <td>3355</td>\n",
       "      <td>19390212</td>\n",
       "      <td>8859999</td>\n",
       "    </tr>\n",
       "  </tbody>\n",
       "</table>\n",
       "</div>"
      ],
      "text/plain": [
       "     employee_name             employee_address       suburb  postcode  \\\n",
       "0           elton      3 light setreet pinehill   windermere      3212   \n",
       "1   mitchell maxon   47 edkins street lochaoair   north ryde      3355   \n",
       "\n",
       "  date_of_birth  soc_sec_id  \n",
       "0      19651013     1551941  \n",
       "1      19390212     8859999  "
      ]
     },
     "execution_count": 27,
     "metadata": {},
     "output_type": "execute_result"
    }
   ],
   "source": [
    "Df2=pd.read_csv(\"dataset2.csv\")\n",
    "Df2.head(2)"
   ]
  },
  {
   "cell_type": "code",
   "execution_count": 28,
   "metadata": {},
   "outputs": [
    {
     "data": {
      "text/plain": [
       "{'filename_1': 'dataset1.csv',\n",
       " 'filename_2': 'dataset2.csv',\n",
       " 'comparision_pairs': [['name', 'employee_name', 1],\n",
       "  ['address', 'employee_address', 0.85],\n",
       "  ['soc_sec_id', 'soc_sec_id', 1]]}"
      ]
     },
     "execution_count": 28,
     "metadata": {},
     "output_type": "execute_result"
    }
   ],
   "source": [
    "with open(\"config.json\",\"r\") as fp:\n",
    "    configFile=json.load(fp)\n",
    "configFile"
   ]
  },
  {
   "cell_type": "markdown",
   "metadata": {},
   "source": [
    "## Creating Model"
   ]
  },
  {
   "cell_type": "code",
   "execution_count": 29,
   "metadata": {},
   "outputs": [],
   "source": [
    "model_package_arn = 'arn:aws:sagemaker:us-east-2:786796469737:model-package/data-deduplication-v1'"
   ]
  },
  {
   "cell_type": "code",
   "execution_count": 30,
   "metadata": {},
   "outputs": [],
   "source": [
    "from sagemaker import ModelPackage\n",
    "import sagemaker as sage\n",
    "from sagemaker import get_execution_role\n",
    "\n",
    "role = get_execution_role()\n",
    "sagemaker_session = sage.Session()"
   ]
  },
  {
   "cell_type": "code",
   "execution_count": 31,
   "metadata": {},
   "outputs": [
    {
     "name": "stderr",
     "output_type": "stream",
     "text": [
      "Parameter image will be renamed to image_uri in SageMaker Python SDK v2.\n"
     ]
    }
   ],
   "source": [
    "model = ModelPackage(model_package_arn=model_package_arn,\n",
    "                    role = role,\n",
    "                    sagemaker_session = sagemaker_session)"
   ]
  },
  {
   "cell_type": "markdown",
   "metadata": {},
   "source": [
    "## Batch Transform\n",
    "\n",
    "Now that model is ready, we can deploy the model and make predictions.\n",
    "\n",
    "### Prediction Classes - Batch Transform Job\n",
    "\n",
    "<b>Output (csv) file will combine both Dataframes and duplicate rows will have same MasterID  </b>"
   ]
  },
  {
   "cell_type": "code",
   "execution_count": 32,
   "metadata": {},
   "outputs": [
    {
     "name": "stdout",
     "output_type": "stream",
     "text": [
      "......................\u001b[32m2020-10-23T16:28:51.162:[sagemaker logs]: MaxConcurrentTransforms=1, MaxPayloadInMB=6, BatchStrategy=MULTI_RECORD\u001b[0m\n",
      "\u001b[34m * Serving Flask app \"serve\" (lazy loading)\n",
      " * Environment: production\n",
      "   WARNING: This is a development server. Do not use it in a production deployment.\n",
      "   Use a production WSGI server instead.\n",
      " * Debug mode: off\n",
      " * Running on http://0.0.0.0:8080/ (Press CTRL+C to quit)\u001b[0m\n",
      "\u001b[34m169.254.255.130 - - [23/Oct/2020 16:28:51] \"#033[37mGET /ping HTTP/1.1#033[0m\" 200 -\u001b[0m\n",
      "\u001b[34m169.254.255.130 - - [23/Oct/2020 16:28:51] \"#033[33mGET /execution-parameters HTTP/1.1#033[0m\" 404 -\u001b[0m\n",
      "\u001b[34m169.254.255.130 - - [23/Oct/2020 16:28:55] \"#033[37mPOST /invocations HTTP/1.1#033[0m\" 200 -\u001b[0m\n",
      "\u001b[35m * Serving Flask app \"serve\" (lazy loading)\n",
      " * Environment: production\n",
      "   WARNING: This is a development server. Do not use it in a production deployment.\n",
      "   Use a production WSGI server instead.\n",
      " * Debug mode: off\n",
      " * Running on http://0.0.0.0:8080/ (Press CTRL+C to quit)\u001b[0m\n",
      "\u001b[35m169.254.255.130 - - [23/Oct/2020 16:28:51] \"#033[37mGET /ping HTTP/1.1#033[0m\" 200 -\u001b[0m\n",
      "\u001b[35m169.254.255.130 - - [23/Oct/2020 16:28:51] \"#033[33mGET /execution-parameters HTTP/1.1#033[0m\" 404 -\u001b[0m\n",
      "\u001b[35m169.254.255.130 - - [23/Oct/2020 16:28:55] \"#033[37mPOST /invocations HTTP/1.1#033[0m\" 200 -\u001b[0m\n",
      "\n",
      "Batch Transform complete\n"
     ]
    }
   ],
   "source": [
    "import json \n",
    "import uuid\n",
    "\n",
    "OutputPath='s3://mphasis-marketplace/data-deduplication/'\n",
    "\n",
    "transformer = model.transformer(1, 'ml.m5.xlarge',output_path=OutputPath)\n",
    "transformer.transform('s3://mphasis-marketplace/data-deduplication/Input_data.zip', content_type='application/zip')\n",
    "transformer.wait()\n",
    "\n",
    "print(\"Batch Transform complete\")\n",
    "bucketFolder = transformer.output_path.rsplit('/')[3]"
   ]
  },
  {
   "cell_type": "code",
   "execution_count": 39,
   "metadata": {},
   "outputs": [
    {
     "name": "stdout",
     "output_type": "stream",
     "text": [
      "Output file loaded from bucket\n"
     ]
    }
   ],
   "source": [
    "s3_conn = boto3.client(\"s3\")\n",
    "\n",
    "bucket_name=\"mphasis-marketplace\"\n",
    "\n",
    "with open('Output_data.csv', 'wb') as f:\n",
    "    s3_conn.download_fileobj(bucket_name, bucketFolder+'/Input_data.zip.out', f)\n",
    "    print(\"Output file loaded from bucket\")"
   ]
  },
  {
   "cell_type": "markdown",
   "metadata": {},
   "source": [
    "## Output\n",
    "  \n",
    "• Output (csv) file will combine both Dataframes and duplicate rows will have same MasterID\n",
    "\n",
    "    "
   ]
  },
  {
   "cell_type": "code",
   "execution_count": 2,
   "metadata": {},
   "outputs": [
    {
     "data": {
      "text/html": [
       "<div>\n",
       "<style scoped>\n",
       "    .dataframe tbody tr th:only-of-type {\n",
       "        vertical-align: middle;\n",
       "    }\n",
       "\n",
       "    .dataframe tbody tr th {\n",
       "        vertical-align: top;\n",
       "    }\n",
       "\n",
       "    .dataframe thead th {\n",
       "        text-align: right;\n",
       "    }\n",
       "</style>\n",
       "<table border=\"1\" class=\"dataframe\">\n",
       "  <thead>\n",
       "    <tr style=\"text-align: right;\">\n",
       "      <th></th>\n",
       "      <th>MasterID</th>\n",
       "      <th>Source</th>\n",
       "      <th>SourceID</th>\n",
       "      <th>name_1_employee_name_2</th>\n",
       "      <th>address_1_employee_address_2</th>\n",
       "      <th>soc_sec_id_1_soc_sec_id_2</th>\n",
       "      <th>suburb_1</th>\n",
       "      <th>postcode_1</th>\n",
       "      <th>state_1</th>\n",
       "      <th>date_of_birth_1</th>\n",
       "      <th>suburb_2</th>\n",
       "      <th>postcode_2</th>\n",
       "      <th>date_of_birth_2</th>\n",
       "    </tr>\n",
       "  </thead>\n",
       "  <tbody>\n",
       "    <tr>\n",
       "      <th>0</th>\n",
       "      <td>d5b7a9e8-154c-11eb-a372-0242a9feff83</td>\n",
       "      <td>dataset1.csv</td>\n",
       "      <td>0</td>\n",
       "      <td>michaela neumann</td>\n",
       "      <td>8 stanley street miami</td>\n",
       "      <td>5304218</td>\n",
       "      <td>winston hills</td>\n",
       "      <td>4223.0</td>\n",
       "      <td>nsw</td>\n",
       "      <td>19151111</td>\n",
       "      <td>NaN</td>\n",
       "      <td>NaN</td>\n",
       "      <td>NaN</td>\n",
       "    </tr>\n",
       "    <tr>\n",
       "      <th>1</th>\n",
       "      <td>d5b7ab78-154c-11eb-a372-0242a9feff83</td>\n",
       "      <td>dataset1.csv</td>\n",
       "      <td>1</td>\n",
       "      <td>courtney painter</td>\n",
       "      <td>12 pinkerton circuit bega flats</td>\n",
       "      <td>4066625</td>\n",
       "      <td>richlands</td>\n",
       "      <td>4560.0</td>\n",
       "      <td>vic</td>\n",
       "      <td>19161214</td>\n",
       "      <td>NaN</td>\n",
       "      <td>NaN</td>\n",
       "      <td>NaN</td>\n",
       "    </tr>\n",
       "    <tr>\n",
       "      <th>2</th>\n",
       "      <td>d5b7ac2c-154c-11eb-a372-0242a9feff83</td>\n",
       "      <td>dataset1.csv</td>\n",
       "      <td>2</td>\n",
       "      <td>charles green</td>\n",
       "      <td>38 salkauskas crescent kela</td>\n",
       "      <td>4365168</td>\n",
       "      <td>dapto</td>\n",
       "      <td>4566.0</td>\n",
       "      <td>nsw</td>\n",
       "      <td>19480930</td>\n",
       "      <td>NaN</td>\n",
       "      <td>NaN</td>\n",
       "      <td>NaN</td>\n",
       "    </tr>\n",
       "    <tr>\n",
       "      <th>3</th>\n",
       "      <td>d5b7acc2-154c-11eb-a372-0242a9feff83</td>\n",
       "      <td>dataset1.csv</td>\n",
       "      <td>3</td>\n",
       "      <td>vanessa parr</td>\n",
       "      <td>905 macquoid place broadbridge manor</td>\n",
       "      <td>9239102</td>\n",
       "      <td>south grafton</td>\n",
       "      <td>2135.0</td>\n",
       "      <td>sa</td>\n",
       "      <td>19951119</td>\n",
       "      <td>NaN</td>\n",
       "      <td>NaN</td>\n",
       "      <td>NaN</td>\n",
       "    </tr>\n",
       "    <tr>\n",
       "      <th>4</th>\n",
       "      <td>d5b7ad44-154c-11eb-a372-0242a9feff83</td>\n",
       "      <td>dataset1.csv</td>\n",
       "      <td>4</td>\n",
       "      <td>mikayla malloney</td>\n",
       "      <td>37 randwick road avalind</td>\n",
       "      <td>7207688</td>\n",
       "      <td>hoppers crossing</td>\n",
       "      <td>4552.0</td>\n",
       "      <td>vic</td>\n",
       "      <td>19860208</td>\n",
       "      <td>NaN</td>\n",
       "      <td>NaN</td>\n",
       "      <td>NaN</td>\n",
       "    </tr>\n",
       "  </tbody>\n",
       "</table>\n",
       "</div>"
      ],
      "text/plain": [
       "                               MasterID        Source  SourceID  \\\n",
       "0  d5b7a9e8-154c-11eb-a372-0242a9feff83  dataset1.csv         0   \n",
       "1  d5b7ab78-154c-11eb-a372-0242a9feff83  dataset1.csv         1   \n",
       "2  d5b7ac2c-154c-11eb-a372-0242a9feff83  dataset1.csv         2   \n",
       "3  d5b7acc2-154c-11eb-a372-0242a9feff83  dataset1.csv         3   \n",
       "4  d5b7ad44-154c-11eb-a372-0242a9feff83  dataset1.csv         4   \n",
       "\n",
       "  name_1_employee_name_2          address_1_employee_address_2  \\\n",
       "0       michaela neumann                8 stanley street miami   \n",
       "1       courtney painter       12 pinkerton circuit bega flats   \n",
       "2          charles green           38 salkauskas crescent kela   \n",
       "3           vanessa parr  905 macquoid place broadbridge manor   \n",
       "4       mikayla malloney              37 randwick road avalind   \n",
       "\n",
       "   soc_sec_id_1_soc_sec_id_2           suburb_1  postcode_1 state_1  \\\n",
       "0                    5304218      winston hills      4223.0     nsw   \n",
       "1                    4066625          richlands      4560.0     vic   \n",
       "2                    4365168              dapto      4566.0     nsw   \n",
       "3                    9239102      south grafton      2135.0      sa   \n",
       "4                    7207688   hoppers crossing      4552.0     vic   \n",
       "\n",
       "  date_of_birth_1 suburb_2  postcode_2 date_of_birth_2  \n",
       "0        19151111      NaN         NaN             NaN  \n",
       "1        19161214      NaN         NaN             NaN  \n",
       "2        19480930      NaN         NaN             NaN  \n",
       "3        19951119      NaN         NaN             NaN  \n",
       "4        19860208      NaN         NaN             NaN  "
      ]
     },
     "execution_count": 2,
     "metadata": {},
     "output_type": "execute_result"
    }
   ],
   "source": [
    "import pandas as pd\n",
    "df_output=pd.read_csv(\"Output_data.csv\")\n",
    "df_output.head(5)"
   ]
  },
  {
   "cell_type": "markdown",
   "metadata": {},
   "source": [
    "### Duplicate Records - Example"
   ]
  },
  {
   "cell_type": "code",
   "execution_count": 23,
   "metadata": {},
   "outputs": [
    {
     "data": {
      "text/html": [
       "<div>\n",
       "<style scoped>\n",
       "    .dataframe tbody tr th:only-of-type {\n",
       "        vertical-align: middle;\n",
       "    }\n",
       "\n",
       "    .dataframe tbody tr th {\n",
       "        vertical-align: top;\n",
       "    }\n",
       "\n",
       "    .dataframe thead th {\n",
       "        text-align: right;\n",
       "    }\n",
       "</style>\n",
       "<table border=\"1\" class=\"dataframe\">\n",
       "  <thead>\n",
       "    <tr style=\"text-align: right;\">\n",
       "      <th></th>\n",
       "      <th>MasterID</th>\n",
       "      <th>Source</th>\n",
       "      <th>SourceID</th>\n",
       "      <th>name_1_employee_name_2</th>\n",
       "      <th>address_1_employee_address_2</th>\n",
       "      <th>soc_sec_id_1_soc_sec_id_2</th>\n",
       "      <th>suburb_1</th>\n",
       "      <th>postcode_1</th>\n",
       "      <th>state_1</th>\n",
       "      <th>date_of_birth_1</th>\n",
       "      <th>suburb_2</th>\n",
       "      <th>postcode_2</th>\n",
       "      <th>date_of_birth_2</th>\n",
       "    </tr>\n",
       "  </thead>\n",
       "  <tbody>\n",
       "    <tr>\n",
       "      <th>7</th>\n",
       "      <td>d7c15b4e-154c-11eb-a372-0242a9feff83</td>\n",
       "      <td>dataset1.csv</td>\n",
       "      <td>7</td>\n",
       "      <td>blakeston broadby</td>\n",
       "      <td>53 traeger street valley of springs</td>\n",
       "      <td>4308555</td>\n",
       "      <td>north ward</td>\n",
       "      <td>3083.0</td>\n",
       "      <td>qld</td>\n",
       "      <td>19120907</td>\n",
       "      <td>NaN</td>\n",
       "      <td>NaN</td>\n",
       "      <td>NaN</td>\n",
       "    </tr>\n",
       "    <tr>\n",
       "      <th>2492</th>\n",
       "      <td>d7c15b4e-154c-11eb-a372-0242a9feff83</td>\n",
       "      <td>dataset2.csv</td>\n",
       "      <td>992</td>\n",
       "      <td>blakeston broadby</td>\n",
       "      <td>53 traeger street valley of springs</td>\n",
       "      <td>4308555</td>\n",
       "      <td>NaN</td>\n",
       "      <td>NaN</td>\n",
       "      <td>NaN</td>\n",
       "      <td>NaN</td>\n",
       "      <td>north ward</td>\n",
       "      <td>3083.0</td>\n",
       "      <td>19120907</td>\n",
       "    </tr>\n",
       "    <tr>\n",
       "      <th>15</th>\n",
       "      <td>d7c1d6a0-154c-11eb-a372-0242a9feff83</td>\n",
       "      <td>dataset1.csv</td>\n",
       "      <td>15</td>\n",
       "      <td>lachlan godfrey</td>\n",
       "      <td>45 lienhop street sorrento</td>\n",
       "      <td>9107241</td>\n",
       "      <td>lalor</td>\n",
       "      <td>2350.0</td>\n",
       "      <td>sa</td>\n",
       "      <td>19080429</td>\n",
       "      <td>NaN</td>\n",
       "      <td>NaN</td>\n",
       "      <td>NaN</td>\n",
       "    </tr>\n",
       "    <tr>\n",
       "      <th>2973</th>\n",
       "      <td>d7c1d6a0-154c-11eb-a372-0242a9feff83</td>\n",
       "      <td>dataset2.csv</td>\n",
       "      <td>1473</td>\n",
       "      <td>lachlan godfrey</td>\n",
       "      <td>45 lienhop street sorretno</td>\n",
       "      <td>9107241</td>\n",
       "      <td>NaN</td>\n",
       "      <td>NaN</td>\n",
       "      <td>NaN</td>\n",
       "      <td>NaN</td>\n",
       "      <td>lalor</td>\n",
       "      <td>2350.0</td>\n",
       "      <td>19080429</td>\n",
       "    </tr>\n",
       "    <tr>\n",
       "      <th>19</th>\n",
       "      <td>d7c230d2-154c-11eb-a372-0242a9feff83</td>\n",
       "      <td>dataset1.csv</td>\n",
       "      <td>19</td>\n",
       "      <td>caitlin basey</td>\n",
       "      <td>414 pelsart street st francis vlge</td>\n",
       "      <td>7811311</td>\n",
       "      <td>daisy hill</td>\n",
       "      <td>2113.0</td>\n",
       "      <td>nsw</td>\n",
       "      <td>19110711</td>\n",
       "      <td>NaN</td>\n",
       "      <td>NaN</td>\n",
       "      <td>NaN</td>\n",
       "    </tr>\n",
       "    <tr>\n",
       "      <th>1764</th>\n",
       "      <td>d7c230d2-154c-11eb-a372-0242a9feff83</td>\n",
       "      <td>dataset2.csv</td>\n",
       "      <td>264</td>\n",
       "      <td>caitlin basey</td>\n",
       "      <td>414 pelsart street st francis vlge</td>\n",
       "      <td>7811311</td>\n",
       "      <td>NaN</td>\n",
       "      <td>NaN</td>\n",
       "      <td>NaN</td>\n",
       "      <td>NaN</td>\n",
       "      <td>daisyh ill</td>\n",
       "      <td>2113.0</td>\n",
       "      <td>19110711</td>\n",
       "    </tr>\n",
       "    <tr>\n",
       "      <th>26</th>\n",
       "      <td>d7c2894c-154c-11eb-a372-0242a9feff83</td>\n",
       "      <td>dataset1.csv</td>\n",
       "      <td>26</td>\n",
       "      <td>joselyn dakin</td>\n",
       "      <td>19 abernethy street kanangra hostel</td>\n",
       "      <td>4852063</td>\n",
       "      <td>manunda</td>\n",
       "      <td>3028.0</td>\n",
       "      <td>wa</td>\n",
       "      <td>19261205</td>\n",
       "      <td>NaN</td>\n",
       "      <td>NaN</td>\n",
       "      <td>NaN</td>\n",
       "    </tr>\n",
       "    <tr>\n",
       "      <th>2650</th>\n",
       "      <td>d7c2894c-154c-11eb-a372-0242a9feff83</td>\n",
       "      <td>dataset2.csv</td>\n",
       "      <td>1150</td>\n",
       "      <td>dakin joselyn</td>\n",
       "      <td>57 aberneth ystreet kanangra hostel</td>\n",
       "      <td>4852063</td>\n",
       "      <td>NaN</td>\n",
       "      <td>NaN</td>\n",
       "      <td>NaN</td>\n",
       "      <td>NaN</td>\n",
       "      <td>manundza</td>\n",
       "      <td>3028.0</td>\n",
       "      <td>19261205</td>\n",
       "    </tr>\n",
       "  </tbody>\n",
       "</table>\n",
       "</div>"
      ],
      "text/plain": [
       "                                  MasterID        Source  SourceID  \\\n",
       "7     d7c15b4e-154c-11eb-a372-0242a9feff83  dataset1.csv         7   \n",
       "2492  d7c15b4e-154c-11eb-a372-0242a9feff83  dataset2.csv       992   \n",
       "15    d7c1d6a0-154c-11eb-a372-0242a9feff83  dataset1.csv        15   \n",
       "2973  d7c1d6a0-154c-11eb-a372-0242a9feff83  dataset2.csv      1473   \n",
       "19    d7c230d2-154c-11eb-a372-0242a9feff83  dataset1.csv        19   \n",
       "1764  d7c230d2-154c-11eb-a372-0242a9feff83  dataset2.csv       264   \n",
       "26    d7c2894c-154c-11eb-a372-0242a9feff83  dataset1.csv        26   \n",
       "2650  d7c2894c-154c-11eb-a372-0242a9feff83  dataset2.csv      1150   \n",
       "\n",
       "     name_1_employee_name_2          address_1_employee_address_2  \\\n",
       "7         blakeston broadby   53 traeger street valley of springs   \n",
       "2492      blakeston broadby   53 traeger street valley of springs   \n",
       "15          lachlan godfrey            45 lienhop street sorrento   \n",
       "2973        lachlan godfrey            45 lienhop street sorretno   \n",
       "19            caitlin basey    414 pelsart street st francis vlge   \n",
       "1764          caitlin basey    414 pelsart street st francis vlge   \n",
       "26            joselyn dakin   19 abernethy street kanangra hostel   \n",
       "2650          dakin joselyn   57 aberneth ystreet kanangra hostel   \n",
       "\n",
       "      soc_sec_id_1_soc_sec_id_2     suburb_1  postcode_1 state_1  \\\n",
       "7                       4308555   north ward      3083.0     qld   \n",
       "2492                    4308555          NaN         NaN     NaN   \n",
       "15                      9107241        lalor      2350.0      sa   \n",
       "2973                    9107241          NaN         NaN     NaN   \n",
       "19                      7811311   daisy hill      2113.0     nsw   \n",
       "1764                    7811311          NaN         NaN     NaN   \n",
       "26                      4852063      manunda      3028.0      wa   \n",
       "2650                    4852063          NaN         NaN     NaN   \n",
       "\n",
       "     date_of_birth_1     suburb_2  postcode_2 date_of_birth_2  \n",
       "7           19120907          NaN         NaN             NaN  \n",
       "2492             NaN   north ward      3083.0        19120907  \n",
       "15          19080429          NaN         NaN             NaN  \n",
       "2973             NaN        lalor      2350.0        19080429  \n",
       "19          19110711          NaN         NaN             NaN  \n",
       "1764             NaN   daisyh ill      2113.0        19110711  \n",
       "26          19261205          NaN         NaN             NaN  \n",
       "2650             NaN     manundza      3028.0        19261205  "
      ]
     },
     "execution_count": 23,
     "metadata": {},
     "output_type": "execute_result"
    }
   ],
   "source": [
    "df_output.groupby(['MasterID']).filter(lambda x: len(x) == 2).sort_values(by='MasterID').head(8)"
   ]
  },
  {
   "cell_type": "markdown",
   "metadata": {},
   "source": [
    "## Invoking through Endpoint"
   ]
  },
  {
   "cell_type": "code",
   "execution_count": 42,
   "metadata": {},
   "outputs": [],
   "source": [
    "import json \n",
    "import uuid\n",
    "from sagemaker import ModelPackage\n",
    "import sagemaker as sage\n",
    "from sagemaker import get_execution_role\n",
    "from sagemaker import ModelPackage\n",
    "import boto3\n",
    "from IPython.display import Image\n",
    "from PIL import Image as ImageEdit\n",
    "\n",
    "role = get_execution_role()\n",
    "\n",
    "sagemaker_session = sage.Session()\n",
    "bucket=sagemaker_session.default_bucket()"
   ]
  },
  {
   "cell_type": "code",
   "execution_count": 43,
   "metadata": {},
   "outputs": [],
   "source": [
    "content_type='application/zip'\n",
    "model_name='data-deduplication-v1'\n",
    "real_time_inference_instance_type='ml.m5.xlarge'"
   ]
  },
  {
   "cell_type": "code",
   "execution_count": 44,
   "metadata": {},
   "outputs": [],
   "source": [
    "#model_package_arn = 'put your arn here'\n",
    "model_package_arn = 'arn:aws:sagemaker:us-east-2:786796469737:model-package/data-deduplication-v1'"
   ]
  },
  {
   "cell_type": "code",
   "execution_count": 45,
   "metadata": {},
   "outputs": [],
   "source": [
    "from sagemaker import ModelPackage\n",
    "import sagemaker as sage\n",
    "from sagemaker import get_execution_role\n",
    "\n",
    "role = get_execution_role()\n",
    "sagemaker_session = sage.Session()"
   ]
  },
  {
   "cell_type": "code",
   "execution_count": 46,
   "metadata": {},
   "outputs": [
    {
     "name": "stderr",
     "output_type": "stream",
     "text": [
      "Parameter image will be renamed to image_uri in SageMaker Python SDK v2.\n"
     ]
    }
   ],
   "source": [
    "#Define predictor wrapper class\n",
    "def predict_wrapper(endpoint, session):\n",
    "    return sage.RealTimePredictor(endpoint, session,content_type=content_type)\n",
    "#create a deployable model from the model package.\n",
    "model = ModelPackage(role=role,\n",
    "                    model_package_arn=model_package_arn,\n",
    "                    sagemaker_session=sagemaker_session,\n",
    "                    predictor_cls=predict_wrapper)"
   ]
  },
  {
   "cell_type": "code",
   "execution_count": 47,
   "metadata": {},
   "outputs": [
    {
     "name": "stdout",
     "output_type": "stream",
     "text": [
      "-----------!"
     ]
    }
   ],
   "source": [
    "predictor = model.deploy(1, real_time_inference_instance_type, endpoint_name=model_name)"
   ]
  },
  {
   "cell_type": "markdown",
   "metadata": {},
   "source": [
    "### Invoking endpoint result through CLI command"
   ]
  },
  {
   "cell_type": "code",
   "execution_count": 48,
   "metadata": {},
   "outputs": [],
   "source": [
    "file_name=\"Input_data.zip\""
   ]
  },
  {
   "cell_type": "code",
   "execution_count": 49,
   "metadata": {},
   "outputs": [
    {
     "name": "stdout",
     "output_type": "stream",
     "text": [
      "{\r\n",
      "    \"ContentType\": \"text/csv; charset=utf-8\",\r\n",
      "    \"InvokedProductionVariant\": \"AllTraffic\"\r\n",
      "}\r\n"
     ]
    }
   ],
   "source": [
    "!aws sagemaker-runtime invoke-endpoint --endpoint-name $model_name --body fileb://$file_name --content-type 'application/zip' --region us-east-2 output.csv"
   ]
  },
  {
   "cell_type": "code",
   "execution_count": null,
   "metadata": {},
   "outputs": [],
   "source": [
    "predictor.delete_endpoint()"
   ]
  },
  {
   "cell_type": "code",
   "execution_count": null,
   "metadata": {},
   "outputs": [],
   "source": []
  }
 ],
 "metadata": {
  "kernelspec": {
   "display_name": "conda_python3",
   "language": "python",
   "name": "conda_python3"
  },
  "language_info": {
   "codemirror_mode": {
    "name": "ipython",
    "version": 3
   },
   "file_extension": ".py",
   "mimetype": "text/x-python",
   "name": "python",
   "nbconvert_exporter": "python",
   "pygments_lexer": "ipython3",
   "version": "3.6.10"
  }
 },
 "nbformat": 4,
 "nbformat_minor": 4
}
